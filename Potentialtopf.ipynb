{
 "cells": [
  {
   "cell_type": "markdown",
   "id": "informational-nowhere",
   "metadata": {},
   "source": [
    "# Demoarbeit\n",
    " --- "
   ]
  },
  {
   "cell_type": "markdown",
   "id": "prompt-butter",
   "metadata": {},
   "source": [
    "# 1 Inhaltsverzeichnis\n",
    "### 2 Einleitung\n",
    "### 3 \n",
    "### 4\n",
    "### 5\n",
    "### 7\n",
    "### 8 Zusammenfassung\n",
    "### 9 Anhang\n",
    "#### 9.2 Literaturverzeichnis"
   ]
  },
  {
   "cell_type": "markdown",
   "id": "thrown-geology",
   "metadata": {},
   "source": [
    "# 2 Einleitung\n"
   ]
  },
  {
   "cell_type": "markdown",
   "id": "precise-privacy",
   "metadata": {},
   "source": [
    "# 3 Potentialtopf um den Atomkern\n",
    "\n",
    "### Unschärferelation\n",
    "\n",
    "$$ \\Delta x \\cdot \\Delta p \\ge \\frac{h}{4 \\pi} $$\n",
    "\n",
    "<h3>HTML Test</h3>\n",
    "\n",
    "<div class=\"alert alert-info\">\n",
    "    Alert\n",
    "</div>\n",
    "\n",
    "<button class=\"button\">\n",
    "    Button\n",
    "</button>"
   ]
  },
  {
   "cell_type": "code",
   "execution_count": 9,
   "id": "western-complement",
   "metadata": {},
   "outputs": [
    {
     "data": {
      "image/svg+xml": [
       "<?xml version=\"1.0\" encoding=\"utf-8\"?>\n",
       "<svg xmlns=\"http://www.w3.org/2000/svg\" xmlns:xlink=\"http://www.w3.org/1999/xlink\" width=\"600\" height=\"400\" viewBox=\"0 0 2400 1600\">\n",
       "<defs>\n",
       "  <clipPath id=\"clip570\">\n",
       "    <rect x=\"0\" y=\"0\" width=\"2400\" height=\"1600\"/>\n",
       "  </clipPath>\n",
       "</defs>\n",
       "<path clip-path=\"url(#clip570)\" d=\"\n",
       "M0 1600 L2400 1600 L2400 0 L0 0  Z\n",
       "  \" fill=\"#ffffff\" fill-rule=\"evenodd\" fill-opacity=\"1\"/>\n",
       "<defs>\n",
       "  <clipPath id=\"clip571\">\n",
       "    <rect x=\"480\" y=\"0\" width=\"1681\" height=\"1600\"/>\n",
       "  </clipPath>\n",
       "</defs>\n",
       "<path clip-path=\"url(#clip570)\" d=\"\n",
       "M186.274 1486.45 L2352.76 1486.45 L2352.76 47.2441 L186.274 47.2441  Z\n",
       "  \" fill=\"#ffffff\" fill-rule=\"evenodd\" fill-opacity=\"1\"/>\n",
       "<defs>\n",
       "  <clipPath id=\"clip572\">\n",
       "    <rect x=\"186\" y=\"47\" width=\"2167\" height=\"1440\"/>\n",
       "  </clipPath>\n",
       "</defs>\n",
       "<polyline clip-path=\"url(#clip572)\" style=\"stroke:#000000; stroke-linecap:butt; stroke-linejoin:round; stroke-width:2; stroke-opacity:0.1; fill:none\" points=\"\n",
       "  474.684,1486.45 474.684,47.2441 \n",
       "  \"/>\n",
       "<polyline clip-path=\"url(#clip572)\" style=\"stroke:#000000; stroke-linecap:butt; stroke-linejoin:round; stroke-width:2; stroke-opacity:0.1; fill:none\" points=\"\n",
       "  928.873,1486.45 928.873,47.2441 \n",
       "  \"/>\n",
       "<polyline clip-path=\"url(#clip572)\" style=\"stroke:#000000; stroke-linecap:butt; stroke-linejoin:round; stroke-width:2; stroke-opacity:0.1; fill:none\" points=\"\n",
       "  1383.06,1486.45 1383.06,47.2441 \n",
       "  \"/>\n",
       "<polyline clip-path=\"url(#clip572)\" style=\"stroke:#000000; stroke-linecap:butt; stroke-linejoin:round; stroke-width:2; stroke-opacity:0.1; fill:none\" points=\"\n",
       "  1837.25,1486.45 1837.25,47.2441 \n",
       "  \"/>\n",
       "<polyline clip-path=\"url(#clip572)\" style=\"stroke:#000000; stroke-linecap:butt; stroke-linejoin:round; stroke-width:2; stroke-opacity:0.1; fill:none\" points=\"\n",
       "  2291.44,1486.45 2291.44,47.2441 \n",
       "  \"/>\n",
       "<polyline clip-path=\"url(#clip570)\" style=\"stroke:#000000; stroke-linecap:butt; stroke-linejoin:round; stroke-width:4; stroke-opacity:1; fill:none\" points=\"\n",
       "  186.274,1486.45 2352.76,1486.45 \n",
       "  \"/>\n",
       "<polyline clip-path=\"url(#clip570)\" style=\"stroke:#000000; stroke-linecap:butt; stroke-linejoin:round; stroke-width:4; stroke-opacity:1; fill:none\" points=\"\n",
       "  474.684,1486.45 474.684,1467.55 \n",
       "  \"/>\n",
       "<polyline clip-path=\"url(#clip570)\" style=\"stroke:#000000; stroke-linecap:butt; stroke-linejoin:round; stroke-width:4; stroke-opacity:1; fill:none\" points=\"\n",
       "  928.873,1486.45 928.873,1467.55 \n",
       "  \"/>\n",
       "<polyline clip-path=\"url(#clip570)\" style=\"stroke:#000000; stroke-linecap:butt; stroke-linejoin:round; stroke-width:4; stroke-opacity:1; fill:none\" points=\"\n",
       "  1383.06,1486.45 1383.06,1467.55 \n",
       "  \"/>\n",
       "<polyline clip-path=\"url(#clip570)\" style=\"stroke:#000000; stroke-linecap:butt; stroke-linejoin:round; stroke-width:4; stroke-opacity:1; fill:none\" points=\"\n",
       "  1837.25,1486.45 1837.25,1467.55 \n",
       "  \"/>\n",
       "<polyline clip-path=\"url(#clip570)\" style=\"stroke:#000000; stroke-linecap:butt; stroke-linejoin:round; stroke-width:4; stroke-opacity:1; fill:none\" points=\"\n",
       "  2291.44,1486.45 2291.44,1467.55 \n",
       "  \"/>\n",
       "<path clip-path=\"url(#clip570)\" d=\"M469.337 1543.18 L485.656 1543.18 L485.656 1547.12 L463.712 1547.12 L463.712 1543.18 Q466.374 1540.43 470.957 1535.8 Q475.564 1531.15 476.744 1529.81 Q478.99 1527.28 479.869 1525.55 Q480.772 1523.79 480.772 1522.1 Q480.772 1519.34 478.828 1517.61 Q476.906 1515.87 473.804 1515.87 Q471.605 1515.87 469.152 1516.63 Q466.721 1517.4 463.943 1518.95 L463.943 1514.23 Q466.767 1513.09 469.221 1512.51 Q471.675 1511.93 473.712 1511.93 Q479.082 1511.93 482.277 1514.62 Q485.471 1517.31 485.471 1521.8 Q485.471 1523.93 484.661 1525.85 Q483.874 1527.74 481.767 1530.34 Q481.189 1531.01 478.087 1534.23 Q474.985 1537.42 469.337 1543.18 Z\" fill=\"#000000\" fill-rule=\"evenodd\" fill-opacity=\"1\" /><path clip-path=\"url(#clip570)\" d=\"M931.882 1516.63 L920.077 1535.08 L931.882 1535.08 L931.882 1516.63 M930.656 1512.56 L936.535 1512.56 L936.535 1535.08 L941.466 1535.08 L941.466 1538.97 L936.535 1538.97 L936.535 1547.12 L931.882 1547.12 L931.882 1538.97 L916.281 1538.97 L916.281 1534.46 L930.656 1512.56 Z\" fill=\"#000000\" fill-rule=\"evenodd\" fill-opacity=\"1\" /><path clip-path=\"url(#clip570)\" d=\"M1383.47 1527.98 Q1380.32 1527.98 1378.47 1530.13 Q1376.64 1532.28 1376.64 1536.03 Q1376.64 1539.76 1378.47 1541.93 Q1380.32 1544.09 1383.47 1544.09 Q1386.62 1544.09 1388.44 1541.93 Q1390.3 1539.76 1390.3 1536.03 Q1390.3 1532.28 1388.44 1530.13 Q1386.62 1527.98 1383.47 1527.98 M1392.75 1513.32 L1392.75 1517.58 Q1390.99 1516.75 1389.18 1516.31 Q1387.4 1515.87 1385.64 1515.87 Q1381.01 1515.87 1378.56 1519 Q1376.13 1522.12 1375.78 1528.44 Q1377.15 1526.43 1379.21 1525.36 Q1381.27 1524.27 1383.75 1524.27 Q1388.95 1524.27 1391.96 1527.44 Q1395 1530.59 1395 1536.03 Q1395 1541.36 1391.85 1544.57 Q1388.7 1547.79 1383.47 1547.79 Q1377.47 1547.79 1374.3 1543.21 Q1371.13 1538.6 1371.13 1529.87 Q1371.13 1521.68 1375.02 1516.82 Q1378.91 1511.93 1385.46 1511.93 Q1387.22 1511.93 1389 1512.28 Q1390.81 1512.63 1392.75 1513.32 Z\" fill=\"#000000\" fill-rule=\"evenodd\" fill-opacity=\"1\" /><path clip-path=\"url(#clip570)\" d=\"M1837.25 1530.71 Q1833.92 1530.71 1832 1532.49 Q1830.1 1534.27 1830.1 1537.4 Q1830.1 1540.52 1832 1542.31 Q1833.92 1544.09 1837.25 1544.09 Q1840.58 1544.09 1842.51 1542.31 Q1844.43 1540.5 1844.43 1537.4 Q1844.43 1534.27 1842.51 1532.49 Q1840.61 1530.71 1837.25 1530.71 M1832.58 1528.72 Q1829.57 1527.98 1827.88 1525.92 Q1826.21 1523.86 1826.21 1520.89 Q1826.21 1516.75 1829.15 1514.34 Q1832.11 1511.93 1837.25 1511.93 Q1842.41 1511.93 1845.35 1514.34 Q1848.29 1516.75 1848.29 1520.89 Q1848.29 1523.86 1846.6 1525.92 Q1844.94 1527.98 1841.95 1528.72 Q1845.33 1529.5 1847.2 1531.8 Q1849.1 1534.09 1849.1 1537.4 Q1849.1 1542.42 1846.02 1545.11 Q1842.97 1547.79 1837.25 1547.79 Q1831.53 1547.79 1828.46 1545.11 Q1825.4 1542.42 1825.4 1537.4 Q1825.4 1534.09 1827.3 1531.8 Q1829.2 1529.5 1832.58 1528.72 M1830.86 1521.33 Q1830.86 1524.02 1832.53 1525.52 Q1834.22 1527.03 1837.25 1527.03 Q1840.26 1527.03 1841.95 1525.52 Q1843.66 1524.02 1843.66 1521.33 Q1843.66 1518.65 1841.95 1517.14 Q1840.26 1515.64 1837.25 1515.64 Q1834.22 1515.64 1832.53 1517.14 Q1830.86 1518.65 1830.86 1521.33 Z\" fill=\"#000000\" fill-rule=\"evenodd\" fill-opacity=\"1\" /><path clip-path=\"url(#clip570)\" d=\"M2266.13 1543.18 L2273.77 1543.18 L2273.77 1516.82 L2265.46 1518.49 L2265.46 1514.23 L2273.72 1512.56 L2278.4 1512.56 L2278.4 1543.18 L2286.04 1543.18 L2286.04 1547.12 L2266.13 1547.12 L2266.13 1543.18 Z\" fill=\"#000000\" fill-rule=\"evenodd\" fill-opacity=\"1\" /><path clip-path=\"url(#clip570)\" d=\"M2305.48 1515.64 Q2301.87 1515.64 2300.04 1519.2 Q2298.23 1522.75 2298.23 1529.87 Q2298.23 1536.98 2300.04 1540.55 Q2301.87 1544.09 2305.48 1544.09 Q2309.11 1544.09 2310.92 1540.55 Q2312.75 1536.98 2312.75 1529.87 Q2312.75 1522.75 2310.92 1519.2 Q2309.11 1515.64 2305.48 1515.64 M2305.48 1511.93 Q2311.29 1511.93 2314.35 1516.54 Q2317.42 1521.12 2317.42 1529.87 Q2317.42 1538.6 2314.35 1543.21 Q2311.29 1547.79 2305.48 1547.79 Q2299.67 1547.79 2296.59 1543.21 Q2293.54 1538.6 2293.54 1529.87 Q2293.54 1521.12 2296.59 1516.54 Q2299.67 1511.93 2305.48 1511.93 Z\" fill=\"#000000\" fill-rule=\"evenodd\" fill-opacity=\"1\" /><polyline clip-path=\"url(#clip572)\" style=\"stroke:#000000; stroke-linecap:butt; stroke-linejoin:round; stroke-width:2; stroke-opacity:0.1; fill:none\" points=\"\n",
       "  186.274,1483.7 2352.76,1483.7 \n",
       "  \"/>\n",
       "<polyline clip-path=\"url(#clip572)\" style=\"stroke:#000000; stroke-linecap:butt; stroke-linejoin:round; stroke-width:2; stroke-opacity:0.1; fill:none\" points=\"\n",
       "  186.274,1129.84 2352.76,1129.84 \n",
       "  \"/>\n",
       "<polyline clip-path=\"url(#clip572)\" style=\"stroke:#000000; stroke-linecap:butt; stroke-linejoin:round; stroke-width:2; stroke-opacity:0.1; fill:none\" points=\"\n",
       "  186.274,775.976 2352.76,775.976 \n",
       "  \"/>\n",
       "<polyline clip-path=\"url(#clip572)\" style=\"stroke:#000000; stroke-linecap:butt; stroke-linejoin:round; stroke-width:2; stroke-opacity:0.1; fill:none\" points=\"\n",
       "  186.274,422.114 2352.76,422.114 \n",
       "  \"/>\n",
       "<polyline clip-path=\"url(#clip572)\" style=\"stroke:#000000; stroke-linecap:butt; stroke-linejoin:round; stroke-width:2; stroke-opacity:0.1; fill:none\" points=\"\n",
       "  186.274,68.2519 2352.76,68.2519 \n",
       "  \"/>\n",
       "<polyline clip-path=\"url(#clip570)\" style=\"stroke:#000000; stroke-linecap:butt; stroke-linejoin:round; stroke-width:4; stroke-opacity:1; fill:none\" points=\"\n",
       "  186.274,1486.45 186.274,47.2441 \n",
       "  \"/>\n",
       "<polyline clip-path=\"url(#clip570)\" style=\"stroke:#000000; stroke-linecap:butt; stroke-linejoin:round; stroke-width:4; stroke-opacity:1; fill:none\" points=\"\n",
       "  186.274,1483.7 205.172,1483.7 \n",
       "  \"/>\n",
       "<polyline clip-path=\"url(#clip570)\" style=\"stroke:#000000; stroke-linecap:butt; stroke-linejoin:round; stroke-width:4; stroke-opacity:1; fill:none\" points=\"\n",
       "  186.274,1129.84 205.172,1129.84 \n",
       "  \"/>\n",
       "<polyline clip-path=\"url(#clip570)\" style=\"stroke:#000000; stroke-linecap:butt; stroke-linejoin:round; stroke-width:4; stroke-opacity:1; fill:none\" points=\"\n",
       "  186.274,775.976 205.172,775.976 \n",
       "  \"/>\n",
       "<polyline clip-path=\"url(#clip570)\" style=\"stroke:#000000; stroke-linecap:butt; stroke-linejoin:round; stroke-width:4; stroke-opacity:1; fill:none\" points=\"\n",
       "  186.274,422.114 205.172,422.114 \n",
       "  \"/>\n",
       "<polyline clip-path=\"url(#clip570)\" style=\"stroke:#000000; stroke-linecap:butt; stroke-linejoin:round; stroke-width:4; stroke-opacity:1; fill:none\" points=\"\n",
       "  186.274,68.2519 205.172,68.2519 \n",
       "  \"/>\n",
       "<path clip-path=\"url(#clip570)\" d=\"M62.9365 1469.5 Q59.3254 1469.5 57.4967 1473.06 Q55.6912 1476.6 55.6912 1483.73 Q55.6912 1490.84 57.4967 1494.41 Q59.3254 1497.95 62.9365 1497.95 Q66.5707 1497.95 68.3763 1494.41 Q70.205 1490.84 70.205 1483.73 Q70.205 1476.6 68.3763 1473.06 Q66.5707 1469.5 62.9365 1469.5 M62.9365 1465.79 Q68.7467 1465.79 71.8022 1470.4 Q74.8809 1474.98 74.8809 1483.73 Q74.8809 1492.46 71.8022 1497.07 Q68.7467 1501.65 62.9365 1501.65 Q57.1264 1501.65 54.0477 1497.07 Q50.9921 1492.46 50.9921 1483.73 Q50.9921 1474.98 54.0477 1470.4 Q57.1264 1465.79 62.9365 1465.79 Z\" fill=\"#000000\" fill-rule=\"evenodd\" fill-opacity=\"1\" /><path clip-path=\"url(#clip570)\" d=\"M83.0984 1495.1 L87.9827 1495.1 L87.9827 1500.98 L83.0984 1500.98 L83.0984 1495.1 Z\" fill=\"#000000\" fill-rule=\"evenodd\" fill-opacity=\"1\" /><path clip-path=\"url(#clip570)\" d=\"M108.168 1469.5 Q104.557 1469.5 102.728 1473.06 Q100.922 1476.6 100.922 1483.73 Q100.922 1490.84 102.728 1494.41 Q104.557 1497.95 108.168 1497.95 Q111.802 1497.95 113.608 1494.41 Q115.436 1490.84 115.436 1483.73 Q115.436 1476.6 113.608 1473.06 Q111.802 1469.5 108.168 1469.5 M108.168 1465.79 Q113.978 1465.79 117.033 1470.4 Q120.112 1474.98 120.112 1483.73 Q120.112 1492.46 117.033 1497.07 Q113.978 1501.65 108.168 1501.65 Q102.358 1501.65 99.2789 1497.07 Q96.2234 1492.46 96.2234 1483.73 Q96.2234 1474.98 99.2789 1470.4 Q102.358 1465.79 108.168 1465.79 Z\" fill=\"#000000\" fill-rule=\"evenodd\" fill-opacity=\"1\" /><path clip-path=\"url(#clip570)\" d=\"M138.33 1469.5 Q134.719 1469.5 132.89 1473.06 Q131.084 1476.6 131.084 1483.73 Q131.084 1490.84 132.89 1494.41 Q134.719 1497.95 138.33 1497.95 Q141.964 1497.95 143.769 1494.41 Q145.598 1490.84 145.598 1483.73 Q145.598 1476.6 143.769 1473.06 Q141.964 1469.5 138.33 1469.5 M138.33 1465.79 Q144.14 1465.79 147.195 1470.4 Q150.274 1474.98 150.274 1483.73 Q150.274 1492.46 147.195 1497.07 Q144.14 1501.65 138.33 1501.65 Q132.519 1501.65 129.441 1497.07 Q126.385 1492.46 126.385 1483.73 Q126.385 1474.98 129.441 1470.4 Q132.519 1465.79 138.33 1465.79 Z\" fill=\"#000000\" fill-rule=\"evenodd\" fill-opacity=\"1\" /><path clip-path=\"url(#clip570)\" d=\"M63.9319 1115.64 Q60.3208 1115.64 58.4921 1119.2 Q56.6865 1122.74 56.6865 1129.87 Q56.6865 1136.98 58.4921 1140.54 Q60.3208 1144.09 63.9319 1144.09 Q67.5661 1144.09 69.3717 1140.54 Q71.2004 1136.98 71.2004 1129.87 Q71.2004 1122.74 69.3717 1119.2 Q67.5661 1115.64 63.9319 1115.64 M63.9319 1111.93 Q69.742 1111.93 72.7976 1116.54 Q75.8763 1121.12 75.8763 1129.87 Q75.8763 1138.6 72.7976 1143.21 Q69.742 1147.79 63.9319 1147.79 Q58.1217 1147.79 55.043 1143.21 Q51.9875 1138.6 51.9875 1129.87 Q51.9875 1121.12 55.043 1116.54 Q58.1217 1111.93 63.9319 1111.93 Z\" fill=\"#000000\" fill-rule=\"evenodd\" fill-opacity=\"1\" /><path clip-path=\"url(#clip570)\" d=\"M84.0938 1141.24 L88.978 1141.24 L88.978 1147.12 L84.0938 1147.12 L84.0938 1141.24 Z\" fill=\"#000000\" fill-rule=\"evenodd\" fill-opacity=\"1\" /><path clip-path=\"url(#clip570)\" d=\"M103.191 1143.18 L119.51 1143.18 L119.51 1147.12 L97.566 1147.12 L97.566 1143.18 Q100.228 1140.43 104.811 1135.8 Q109.418 1131.15 110.598 1129.8 Q112.844 1127.28 113.723 1125.54 Q114.626 1123.78 114.626 1122.09 Q114.626 1119.34 112.682 1117.6 Q110.76 1115.87 107.658 1115.87 Q105.459 1115.87 103.006 1116.63 Q100.575 1117.4 97.7974 1118.95 L97.7974 1114.22 Q100.621 1113.09 103.075 1112.51 Q105.529 1111.93 107.566 1111.93 Q112.936 1111.93 116.131 1114.62 Q119.325 1117.3 119.325 1121.79 Q119.325 1123.92 118.515 1125.84 Q117.728 1127.74 115.621 1130.34 Q115.043 1131.01 111.941 1134.22 Q108.839 1137.42 103.191 1143.18 Z\" fill=\"#000000\" fill-rule=\"evenodd\" fill-opacity=\"1\" /><path clip-path=\"url(#clip570)\" d=\"M129.371 1112.56 L147.728 1112.56 L147.728 1116.49 L133.654 1116.49 L133.654 1124.96 Q134.672 1124.62 135.691 1124.46 Q136.709 1124.27 137.728 1124.27 Q143.515 1124.27 146.894 1127.44 Q150.274 1130.61 150.274 1136.03 Q150.274 1141.61 146.802 1144.71 Q143.33 1147.79 137.01 1147.79 Q134.834 1147.79 132.566 1147.42 Q130.32 1147.05 127.913 1146.31 L127.913 1141.61 Q129.996 1142.74 132.219 1143.3 Q134.441 1143.85 136.918 1143.85 Q140.922 1143.85 143.26 1141.75 Q145.598 1139.64 145.598 1136.03 Q145.598 1132.42 143.26 1130.31 Q140.922 1128.21 136.918 1128.21 Q135.043 1128.21 133.168 1128.62 Q131.316 1129.04 129.371 1129.92 L129.371 1112.56 Z\" fill=\"#000000\" fill-rule=\"evenodd\" fill-opacity=\"1\" /><path clip-path=\"url(#clip570)\" d=\"M62.9365 761.774 Q59.3254 761.774 57.4967 765.339 Q55.6912 768.881 55.6912 776.01 Q55.6912 783.117 57.4967 786.682 Q59.3254 790.223 62.9365 790.223 Q66.5707 790.223 68.3763 786.682 Q70.205 783.117 70.205 776.01 Q70.205 768.881 68.3763 765.339 Q66.5707 761.774 62.9365 761.774 M62.9365 758.071 Q68.7467 758.071 71.8022 762.677 Q74.8809 767.26 74.8809 776.01 Q74.8809 784.737 71.8022 789.344 Q68.7467 793.927 62.9365 793.927 Q57.1264 793.927 54.0477 789.344 Q50.9921 784.737 50.9921 776.01 Q50.9921 767.26 54.0477 762.677 Q57.1264 758.071 62.9365 758.071 Z\" fill=\"#000000\" fill-rule=\"evenodd\" fill-opacity=\"1\" /><path clip-path=\"url(#clip570)\" d=\"M83.0984 787.376 L87.9827 787.376 L87.9827 793.256 L83.0984 793.256 L83.0984 787.376 Z\" fill=\"#000000\" fill-rule=\"evenodd\" fill-opacity=\"1\" /><path clip-path=\"url(#clip570)\" d=\"M98.2141 758.696 L116.57 758.696 L116.57 762.631 L102.496 762.631 L102.496 771.103 Q103.515 770.756 104.534 770.594 Q105.552 770.409 106.571 770.409 Q112.358 770.409 115.737 773.58 Q119.117 776.751 119.117 782.168 Q119.117 787.746 115.645 790.848 Q112.172 793.927 105.853 793.927 Q103.677 793.927 101.409 793.557 Q99.1632 793.186 96.7558 792.445 L96.7558 787.746 Q98.8391 788.881 101.061 789.436 Q103.284 789.992 105.76 789.992 Q109.765 789.992 112.103 787.885 Q114.441 785.779 114.441 782.168 Q114.441 778.557 112.103 776.45 Q109.765 774.344 105.76 774.344 Q103.885 774.344 102.01 774.76 Q100.159 775.177 98.2141 776.057 L98.2141 758.696 Z\" fill=\"#000000\" fill-rule=\"evenodd\" fill-opacity=\"1\" /><path clip-path=\"url(#clip570)\" d=\"M138.33 761.774 Q134.719 761.774 132.89 765.339 Q131.084 768.881 131.084 776.01 Q131.084 783.117 132.89 786.682 Q134.719 790.223 138.33 790.223 Q141.964 790.223 143.769 786.682 Q145.598 783.117 145.598 776.01 Q145.598 768.881 143.769 765.339 Q141.964 761.774 138.33 761.774 M138.33 758.071 Q144.14 758.071 147.195 762.677 Q150.274 767.26 150.274 776.01 Q150.274 784.737 147.195 789.344 Q144.14 793.927 138.33 793.927 Q132.519 793.927 129.441 789.344 Q126.385 784.737 126.385 776.01 Q126.385 767.26 129.441 762.677 Q132.519 758.071 138.33 758.071 Z\" fill=\"#000000\" fill-rule=\"evenodd\" fill-opacity=\"1\" /><path clip-path=\"url(#clip570)\" d=\"M63.9319 407.912 Q60.3208 407.912 58.4921 411.477 Q56.6865 415.019 56.6865 422.149 Q56.6865 429.255 58.4921 432.82 Q60.3208 436.361 63.9319 436.361 Q67.5661 436.361 69.3717 432.82 Q71.2004 429.255 71.2004 422.149 Q71.2004 415.019 69.3717 411.477 Q67.5661 407.912 63.9319 407.912 M63.9319 404.209 Q69.742 404.209 72.7976 408.815 Q75.8763 413.399 75.8763 422.149 Q75.8763 430.875 72.7976 435.482 Q69.742 440.065 63.9319 440.065 Q58.1217 440.065 55.043 435.482 Q51.9875 430.875 51.9875 422.149 Q51.9875 413.399 55.043 408.815 Q58.1217 404.209 63.9319 404.209 Z\" fill=\"#000000\" fill-rule=\"evenodd\" fill-opacity=\"1\" /><path clip-path=\"url(#clip570)\" d=\"M84.0938 433.514 L88.978 433.514 L88.978 439.394 L84.0938 439.394 L84.0938 433.514 Z\" fill=\"#000000\" fill-rule=\"evenodd\" fill-opacity=\"1\" /><path clip-path=\"url(#clip570)\" d=\"M97.9826 404.834 L120.205 404.834 L120.205 406.825 L107.658 439.394 L102.774 439.394 L114.58 408.769 L97.9826 408.769 L97.9826 404.834 Z\" fill=\"#000000\" fill-rule=\"evenodd\" fill-opacity=\"1\" /><path clip-path=\"url(#clip570)\" d=\"M129.371 404.834 L147.728 404.834 L147.728 408.769 L133.654 408.769 L133.654 417.241 Q134.672 416.894 135.691 416.732 Q136.709 416.547 137.728 416.547 Q143.515 416.547 146.894 419.718 Q150.274 422.889 150.274 428.306 Q150.274 433.885 146.802 436.986 Q143.33 440.065 137.01 440.065 Q134.834 440.065 132.566 439.695 Q130.32 439.324 127.913 438.584 L127.913 433.885 Q129.996 435.019 132.219 435.574 Q134.441 436.13 136.918 436.13 Q140.922 436.13 143.26 434.023 Q145.598 431.917 145.598 428.306 Q145.598 424.695 143.26 422.588 Q140.922 420.482 136.918 420.482 Q135.043 420.482 133.168 420.899 Q131.316 421.315 129.371 422.195 L129.371 404.834 Z\" fill=\"#000000\" fill-rule=\"evenodd\" fill-opacity=\"1\" /><path clip-path=\"url(#clip570)\" d=\"M53.7467 81.5968 L61.3856 81.5968 L61.3856 55.2312 L53.0754 56.8978 L53.0754 52.6386 L61.3393 50.9719 L66.0152 50.9719 L66.0152 81.5968 L73.654 81.5968 L73.654 85.5319 L53.7467 85.5319 L53.7467 81.5968 Z\" fill=\"#000000\" fill-rule=\"evenodd\" fill-opacity=\"1\" /><path clip-path=\"url(#clip570)\" d=\"M83.0984 79.6523 L87.9827 79.6523 L87.9827 85.5319 L83.0984 85.5319 L83.0984 79.6523 Z\" fill=\"#000000\" fill-rule=\"evenodd\" fill-opacity=\"1\" /><path clip-path=\"url(#clip570)\" d=\"M108.168 54.0506 Q104.557 54.0506 102.728 57.6154 Q100.922 61.1571 100.922 68.2867 Q100.922 75.3931 102.728 78.9579 Q104.557 82.4995 108.168 82.4995 Q111.802 82.4995 113.608 78.9579 Q115.436 75.3931 115.436 68.2867 Q115.436 61.1571 113.608 57.6154 Q111.802 54.0506 108.168 54.0506 M108.168 50.3469 Q113.978 50.3469 117.033 54.9534 Q120.112 59.5367 120.112 68.2867 Q120.112 77.0135 117.033 81.6199 Q113.978 86.2032 108.168 86.2032 Q102.358 86.2032 99.2789 81.6199 Q96.2234 77.0135 96.2234 68.2867 Q96.2234 59.5367 99.2789 54.9534 Q102.358 50.3469 108.168 50.3469 Z\" fill=\"#000000\" fill-rule=\"evenodd\" fill-opacity=\"1\" /><path clip-path=\"url(#clip570)\" d=\"M138.33 54.0506 Q134.719 54.0506 132.89 57.6154 Q131.084 61.1571 131.084 68.2867 Q131.084 75.3931 132.89 78.9579 Q134.719 82.4995 138.33 82.4995 Q141.964 82.4995 143.769 78.9579 Q145.598 75.3931 145.598 68.2867 Q145.598 61.1571 143.769 57.6154 Q141.964 54.0506 138.33 54.0506 M138.33 50.3469 Q144.14 50.3469 147.195 54.9534 Q150.274 59.5367 150.274 68.2867 Q150.274 77.0135 147.195 81.6199 Q144.14 86.2032 138.33 86.2032 Q132.519 86.2032 129.441 81.6199 Q126.385 77.0135 126.385 68.2867 Q126.385 59.5367 129.441 54.9534 Q132.519 50.3469 138.33 50.3469 Z\" fill=\"#000000\" fill-rule=\"evenodd\" fill-opacity=\"1\" /><polyline clip-path=\"url(#clip572)\" style=\"stroke:#009af9; stroke-linecap:butt; stroke-linejoin:round; stroke-width:4; stroke-opacity:1; fill:none\" points=\"\n",
       "  247.59,176.675 474.684,552.211 701.779,1445.72 928.873,1092.54 1155.97,343.682 1383.06,386.312 1610.16,526.537 1837.25,87.9763 2064.35,1066.18 2291.44,697.098 \n",
       "  \n",
       "  \"/>\n",
       "<polyline clip-path=\"url(#clip572)\" style=\"stroke:#e26f46; stroke-linecap:butt; stroke-linejoin:round; stroke-width:4; stroke-opacity:1; fill:none\" points=\"\n",
       "  247.59,1299.65 474.684,759.662 701.779,1425.2 928.873,582.335 1155.97,1210.79 1383.06,815.928 1610.16,600.019 1837.25,1427.08 2064.35,312.712 2291.44,304.644 \n",
       "  \n",
       "  \"/>\n",
       "<polyline clip-path=\"url(#clip572)\" style=\"stroke:#3da44d; stroke-linecap:butt; stroke-linejoin:round; stroke-width:4; stroke-opacity:1; fill:none\" points=\"\n",
       "  247.59,1426.57 474.684,907.068 701.779,921.119 928.873,1128.04 1155.97,1037.05 1383.06,1440.83 1610.16,1031.86 1837.25,694.205 2064.35,257.673 2291.44,1136.2 \n",
       "  \n",
       "  \"/>\n",
       "<path clip-path=\"url(#clip570)\" d=\"\n",
       "M1986.81 302.578 L2280.54 302.578 L2280.54 95.2176 L1986.81 95.2176  Z\n",
       "  \" fill=\"#ffffff\" fill-rule=\"evenodd\" fill-opacity=\"1\"/>\n",
       "<polyline clip-path=\"url(#clip570)\" style=\"stroke:#000000; stroke-linecap:butt; stroke-linejoin:round; stroke-width:4; stroke-opacity:1; fill:none\" points=\"\n",
       "  1986.81,302.578 2280.54,302.578 2280.54,95.2176 1986.81,95.2176 1986.81,302.578 \n",
       "  \"/>\n",
       "<polyline clip-path=\"url(#clip570)\" style=\"stroke:#009af9; stroke-linecap:butt; stroke-linejoin:round; stroke-width:4; stroke-opacity:1; fill:none\" points=\"\n",
       "  2010.88,147.058 2155.31,147.058 \n",
       "  \"/>\n",
       "<path clip-path=\"url(#clip570)\" d=\"M2193.23 166.745 Q2191.42 171.375 2189.71 172.787 Q2188 174.199 2185.13 174.199 L2181.72 174.199 L2181.72 170.634 L2184.22 170.634 Q2185.98 170.634 2186.96 169.8 Q2187.93 168.967 2189.11 165.865 L2189.87 163.921 L2179.39 138.412 L2183.9 138.412 L2192 158.689 L2200.1 138.412 L2204.62 138.412 L2193.23 166.745 Z\" fill=\"#000000\" fill-rule=\"evenodd\" fill-opacity=\"1\" /><path clip-path=\"url(#clip570)\" d=\"M2211.91 160.402 L2219.55 160.402 L2219.55 134.037 L2211.24 135.703 L2211.24 131.444 L2219.5 129.778 L2224.18 129.778 L2224.18 160.402 L2231.82 160.402 L2231.82 164.338 L2211.91 164.338 L2211.91 160.402 Z\" fill=\"#000000\" fill-rule=\"evenodd\" fill-opacity=\"1\" /><polyline clip-path=\"url(#clip570)\" style=\"stroke:#e26f46; stroke-linecap:butt; stroke-linejoin:round; stroke-width:4; stroke-opacity:1; fill:none\" points=\"\n",
       "  2010.88,198.898 2155.31,198.898 \n",
       "  \"/>\n",
       "<path clip-path=\"url(#clip570)\" d=\"M2193.23 218.585 Q2191.42 223.215 2189.71 224.627 Q2188 226.039 2185.13 226.039 L2181.72 226.039 L2181.72 222.474 L2184.22 222.474 Q2185.98 222.474 2186.96 221.64 Q2187.93 220.807 2189.11 217.705 L2189.87 215.761 L2179.39 190.252 L2183.9 190.252 L2192 210.529 L2200.1 190.252 L2204.62 190.252 L2193.23 218.585 Z\" fill=\"#000000\" fill-rule=\"evenodd\" fill-opacity=\"1\" /><path clip-path=\"url(#clip570)\" d=\"M2215.13 212.242 L2231.45 212.242 L2231.45 216.178 L2209.5 216.178 L2209.5 212.242 Q2212.16 209.488 2216.75 204.858 Q2221.35 200.205 2222.53 198.863 Q2224.78 196.34 2225.66 194.604 Q2226.56 192.844 2226.56 191.155 Q2226.56 188.4 2224.62 186.664 Q2222.7 184.928 2219.59 184.928 Q2217.4 184.928 2214.94 185.692 Q2212.51 186.455 2209.73 188.006 L2209.73 183.284 Q2212.56 182.15 2215.01 181.571 Q2217.47 180.993 2219.5 180.993 Q2224.87 180.993 2228.07 183.678 Q2231.26 186.363 2231.26 190.854 Q2231.26 192.983 2230.45 194.905 Q2229.66 196.803 2227.56 199.395 Q2226.98 200.067 2223.88 203.284 Q2220.78 206.479 2215.13 212.242 Z\" fill=\"#000000\" fill-rule=\"evenodd\" fill-opacity=\"1\" /><polyline clip-path=\"url(#clip570)\" style=\"stroke:#3da44d; stroke-linecap:butt; stroke-linejoin:round; stroke-width:4; stroke-opacity:1; fill:none\" points=\"\n",
       "  2010.88,250.738 2155.31,250.738 \n",
       "  \"/>\n",
       "<path clip-path=\"url(#clip570)\" d=\"M2193.23 270.425 Q2191.42 275.055 2189.71 276.467 Q2188 277.879 2185.13 277.879 L2181.72 277.879 L2181.72 274.314 L2184.22 274.314 Q2185.98 274.314 2186.96 273.48 Q2187.93 272.647 2189.11 269.545 L2189.87 267.601 L2179.39 242.092 L2183.9 242.092 L2192 262.369 L2200.1 242.092 L2204.62 242.092 L2193.23 270.425 Z\" fill=\"#000000\" fill-rule=\"evenodd\" fill-opacity=\"1\" /><path clip-path=\"url(#clip570)\" d=\"M2225.27 249.383 Q2228.62 250.101 2230.5 252.369 Q2232.4 254.638 2232.4 257.971 Q2232.4 263.087 2228.88 265.888 Q2225.36 268.689 2218.88 268.689 Q2216.7 268.689 2214.39 268.249 Q2212.09 267.832 2209.64 266.976 L2209.64 262.462 Q2211.59 263.596 2213.9 264.175 Q2216.22 264.754 2218.74 264.754 Q2223.14 264.754 2225.43 263.018 Q2227.74 261.281 2227.74 257.971 Q2227.74 254.916 2225.59 253.203 Q2223.46 251.467 2219.64 251.467 L2215.61 251.467 L2215.61 247.624 L2219.83 247.624 Q2223.28 247.624 2225.1 246.258 Q2226.93 244.87 2226.93 242.277 Q2226.93 239.615 2225.03 238.203 Q2223.16 236.768 2219.64 236.768 Q2217.72 236.768 2215.52 237.184 Q2213.32 237.601 2210.68 238.481 L2210.68 234.314 Q2213.34 233.573 2215.66 233.203 Q2218 232.833 2220.06 232.833 Q2225.38 232.833 2228.48 235.263 Q2231.59 237.67 2231.59 241.791 Q2231.59 244.661 2229.94 246.652 Q2228.3 248.62 2225.27 249.383 Z\" fill=\"#000000\" fill-rule=\"evenodd\" fill-opacity=\"1\" /></svg>\n"
      ]
     },
     "execution_count": 9,
     "metadata": {},
     "output_type": "execute_result"
    }
   ],
   "source": [
    "using Plots\n",
    "\n",
    "#Planck constant\n",
    "h = 6,626 * 10^-34\n",
    "\n",
    "#Todo finish plot\n",
    "\n",
    "#Temp example\n",
    "\n",
    "x = 1:10; y = rand(10, 2)\n",
    "p = plot(x, y)\n",
    "z = rand(10)\n",
    "plot!(, show=true)"
   ]
  },
  {
   "cell_type": "markdown",
   "id": "lucky-lingerie",
   "metadata": {},
   "source": [
    "# 4 Lösung der Schrödingergleichung\n",
    "\n",
    "$ \\Psi_{1} \\sim \\sin\\frac{x \\cdot\\pi}{L} $\n",
    "\n",
    "$ \\lambda_{1} = 2L $\n",
    "\n",
    "$ p_{1} = \\frac{h}{\\lambda_{1}} = \\frac{h}{2L} $\n",
    "\n",
    "$ E_{1} = \\frac{p^2}{2 m_{e}} = \\frac{h^2}{8 m_{e} \\cdot L^2} $"
   ]
  },
  {
   "cell_type": "code",
   "execution_count": 17,
   "id": "charged-explosion",
   "metadata": {},
   "outputs": [
    {
     "name": "stdout",
     "output_type": "stream",
     "text": [
      "An error occured.\n",
      "ValueError: No linked package for @webio/webio\n",
      "See the log file for details:  /tmp/jupyterlab-debug-o90t5g81.log\n",
      "An error occured.\n",
      "ValueError: \n",
      "\"@webio/jupyter-lab-provider@0.8.15\" is not compatible with the current JupyterLab\n",
      "Conflicting Dependencies:\n",
      "JupyterLab              Extension      Package\n",
      ">=3.0.7 <3.1.0          >=2.0.0 <3.0.0 @jupyterlab/application\n",
      ">=3.0.7 <3.1.0          >=2.0.0 <3.0.0 @jupyterlab/docmanager\n",
      ">=3.0.7 <3.1.0          >=2.0.0 <3.0.0 @jupyterlab/notebook\n",
      ">=3.0.6 <3.1.0          >=2.0.0 <3.0.0 @jupyterlab/rendermime\n",
      ">=6.0.5 <6.1.0          >=5.0.0 <6.0.0 @jupyterlab/services\n",
      "See the log file for details:  /tmp/jupyterlab-debug-2z8qevb6.log\n"
     ]
    },
    {
     "name": "stderr",
     "output_type": "stream",
     "text": [
      "┌ Info: Using default Jupyter executable at `/home/default/.local/bin/jupyter`; to use a different executable, see the documentation by running `?WebIO.install_jupyter_labextension`.\n",
      "└ @ WebIO /home/default/.julia/packages/WebIO/Fy9h1/deps/jupyter.jl:198\n",
      "No labextension named \"@webio/jupyter-lab-provider\" installed\n"
     ]
    },
    {
     "ename": "LoadError",
     "evalue": "\u001b[91mfailed process: Process(`\u001b[4m/home/default/.local/bin/jupyter\u001b[24m \u001b[4mlabextension\u001b[24m \u001b[4minstall\u001b[24m \u001b[4m--no-build\u001b[24m \u001b[4m@webio/jupyter-lab-provider@0.8.15\u001b[24m`, ProcessExited(1)) [1]\u001b[39m\n",
     "output_type": "error",
     "traceback": [
      "\u001b[91mfailed process: Process(`\u001b[4m/home/default/.local/bin/jupyter\u001b[24m \u001b[4mlabextension\u001b[24m \u001b[4minstall\u001b[24m \u001b[4m--no-build\u001b[24m \u001b[4m@webio/jupyter-lab-provider@0.8.15\u001b[24m`, ProcessExited(1)) [1]\u001b[39m\n",
      "",
      "Stacktrace:",
      " [1] run at ./process.jl:438 [inlined]",
      " [2] install_jupyter_labextension(::Nothing; force_conda_jupyter::Nothing, condajl::Nothing, dev::Bool) at /home/default/.julia/packages/WebIO/Fy9h1/deps/jupyter.jl:216",
      " [3] install_jupyter_labextension(::Nothing) at /home/default/.julia/packages/WebIO/Fy9h1/deps/jupyter.jl:196 (repeats 2 times)",
      " [4] top-level scope at In[17]:2"
     ]
    }
   ],
   "source": [
    "using Interact, WebIO, Plots\n",
    "WebIO.install_jupyter_labextension()\n",
    "\n",
    "# Todo fix\n",
    "\n",
    "a, b = 0\n",
    "\n",
    "@manipulate for var1=a, var2=b,\n",
    "end"
   ]
  },
  {
   "cell_type": "markdown",
   "id": "honey-panama",
   "metadata": {},
   "source": [
    "# 5"
   ]
  },
  {
   "cell_type": "code",
   "execution_count": null,
   "id": "thirty-marker",
   "metadata": {},
   "outputs": [],
   "source": []
  },
  {
   "cell_type": "markdown",
   "id": "earned-genesis",
   "metadata": {},
   "source": [
    "# 6 Potentialtopf als dreidimensionaler Raum"
   ]
  },
  {
   "cell_type": "code",
   "execution_count": null,
   "id": "outdoor-classroom",
   "metadata": {},
   "outputs": [],
   "source": []
  },
  {
   "cell_type": "markdown",
   "id": "plain-therapy",
   "metadata": {},
   "source": [
    "# 7"
   ]
  },
  {
   "cell_type": "code",
   "execution_count": null,
   "id": "enabling-steam",
   "metadata": {},
   "outputs": [],
   "source": []
  },
  {
   "cell_type": "markdown",
   "id": "bearing-collect",
   "metadata": {},
   "source": [
    "# 8 Zusammenfassung"
   ]
  },
  {
   "cell_type": "markdown",
   "id": "miniature-lexington",
   "metadata": {},
   "source": [
    "# 9 Anhang\n",
    "## 9.1 Formelverzeichnis\n",
    "Formel Schrödinger - 1: ...\n",
    "## 9.2 Literaturverzeichnis\n",
    "[ROT]                                        Lothar Meyer, Oliver Schwarz, u.a., \"Physik 12\", Berlin 2010"
   ]
  },
  {
   "cell_type": "code",
   "execution_count": null,
   "id": "declared-disability",
   "metadata": {},
   "outputs": [],
   "source": []
  },
  {
   "cell_type": "code",
   "execution_count": null,
   "id": "intellectual-fellow",
   "metadata": {},
   "outputs": [],
   "source": []
  },
  {
   "cell_type": "code",
   "execution_count": null,
   "id": "employed-flashing",
   "metadata": {},
   "outputs": [],
   "source": []
  },
  {
   "cell_type": "code",
   "execution_count": null,
   "id": "remarkable-repair",
   "metadata": {},
   "outputs": [],
   "source": []
  },
  {
   "cell_type": "code",
   "execution_count": null,
   "id": "suspended-sacrifice",
   "metadata": {},
   "outputs": [],
   "source": []
  }
 ],
 "metadata": {
  "kernelspec": {
   "display_name": "Julia 1.5.3",
   "language": "julia",
   "name": "julia-1.5"
  },
  "language_info": {
   "file_extension": ".jl",
   "mimetype": "application/julia",
   "name": "julia",
   "version": "1.5.3"
  },
  "toc-autonumbering": false,
  "toc-showcode": true,
  "toc-showmarkdowntxt": false,
  "toc-showtags": false
 },
 "nbformat": 4,
 "nbformat_minor": 5
}
